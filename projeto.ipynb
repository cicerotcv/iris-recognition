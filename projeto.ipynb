{
  "nbformat": 4,
  "nbformat_minor": 0,
  "metadata": {
    "colab": {
      "name": "Visão_Computacional_Aula_04.ipynb",
      "provenance": [],
      "collapsed_sections": []
    },
    "kernelspec": {
      "name": "python3",
      "display_name": "Python 3"
    }
  },
  "cells": [
    {
      "cell_type": "markdown",
      "metadata": {
        "id": "nxY7Hh85nCjZ"
      },
      "source": [
        "## **VISÃO COMPUTACIONAL - AULA 04**\n",
        "\n",
        "**Objetivos da aula:**\n",
        "\n",
        "*   conhecer o software G6-iris-recognition\n",
        "*   praticar com o software G6-iris-recognition\n",
        "*   especificar a competição de reconhecimento de íris dentro do curso\n",
        "\n",
        "\n",
        "\n",
        "\n",
        "\n",
        "\n",
        "\n"
      ]
    },
    {
      "cell_type": "markdown",
      "metadata": {
        "id": "lcnbn_ynorRn"
      },
      "source": [
        "**Instalação do Módulo G6 (Gate 6)**\n",
        "\n",
        "Documentação do Módulo G6: https://pypi.org/project/G6-iris-recognition/ \n",
        "\n",
        "Para instalar o módulo de reconhecimento de íris G6, seguir os passos abaixo:\n",
        "\n",
        "1. Atualizar o módulo scikit-image do Google Colab:"
      ]
    },
    {
      "cell_type": "code",
      "metadata": {
        "id": "7GwUochDyKk-",
        "outputId": "d90a00c7-07d5-48d9-b147-d1ec84dce1b4",
        "colab": {
          "base_uri": "https://localhost:8080/"
        }
      },
      "source": [
        "!pip3 install scikit-image --upgrade"
      ],
      "execution_count": 1,
      "outputs": [
        {
          "output_type": "stream",
          "name": "stdout",
          "text": [
            "Requirement already satisfied: scikit-image in /usr/local/lib/python3.7/dist-packages (0.16.2)\n",
            "Collecting scikit-image\n",
            "  Downloading scikit_image-0.18.3-cp37-cp37m-manylinux_2_5_x86_64.manylinux1_x86_64.whl (29.2 MB)\n",
            "\u001b[K     |████████████████████████████████| 29.2 MB 84 kB/s \n",
            "\u001b[?25hRequirement already satisfied: networkx>=2.0 in /usr/local/lib/python3.7/dist-packages (from scikit-image) (2.6.3)\n",
            "Requirement already satisfied: numpy>=1.16.5 in /usr/local/lib/python3.7/dist-packages (from scikit-image) (1.19.5)\n",
            "Requirement already satisfied: PyWavelets>=1.1.1 in /usr/local/lib/python3.7/dist-packages (from scikit-image) (1.1.1)\n",
            "Requirement already satisfied: pillow!=7.1.0,!=7.1.1,>=4.3.0 in /usr/local/lib/python3.7/dist-packages (from scikit-image) (7.1.2)\n",
            "Requirement already satisfied: matplotlib!=3.0.0,>=2.0.0 in /usr/local/lib/python3.7/dist-packages (from scikit-image) (3.2.2)\n",
            "Requirement already satisfied: imageio>=2.3.0 in /usr/local/lib/python3.7/dist-packages (from scikit-image) (2.4.1)\n",
            "Requirement already satisfied: scipy>=1.0.1 in /usr/local/lib/python3.7/dist-packages (from scikit-image) (1.4.1)\n",
            "Requirement already satisfied: tifffile>=2019.7.26 in /usr/local/lib/python3.7/dist-packages (from scikit-image) (2021.8.30)\n",
            "Requirement already satisfied: cycler>=0.10 in /usr/local/lib/python3.7/dist-packages (from matplotlib!=3.0.0,>=2.0.0->scikit-image) (0.10.0)\n",
            "Requirement already satisfied: pyparsing!=2.0.4,!=2.1.2,!=2.1.6,>=2.0.1 in /usr/local/lib/python3.7/dist-packages (from matplotlib!=3.0.0,>=2.0.0->scikit-image) (2.4.7)\n",
            "Requirement already satisfied: python-dateutil>=2.1 in /usr/local/lib/python3.7/dist-packages (from matplotlib!=3.0.0,>=2.0.0->scikit-image) (2.8.2)\n",
            "Requirement already satisfied: kiwisolver>=1.0.1 in /usr/local/lib/python3.7/dist-packages (from matplotlib!=3.0.0,>=2.0.0->scikit-image) (1.3.2)\n",
            "Requirement already satisfied: six in /usr/local/lib/python3.7/dist-packages (from cycler>=0.10->matplotlib!=3.0.0,>=2.0.0->scikit-image) (1.15.0)\n",
            "Installing collected packages: scikit-image\n",
            "  Attempting uninstall: scikit-image\n",
            "    Found existing installation: scikit-image 0.16.2\n",
            "    Uninstalling scikit-image-0.16.2:\n",
            "      Successfully uninstalled scikit-image-0.16.2\n",
            "\u001b[31mERROR: pip's dependency resolver does not currently take into account all the packages that are installed. This behaviour is the source of the following dependency conflicts.\n",
            "albumentations 0.1.12 requires imgaug<0.2.7,>=0.2.5, but you have imgaug 0.2.9 which is incompatible.\u001b[0m\n",
            "Successfully installed scikit-image-0.18.3\n"
          ]
        }
      ]
    },
    {
      "cell_type": "markdown",
      "metadata": {
        "id": "zTCiXsAqyNxV"
      },
      "source": [
        "   2. Fazer um clone do módulo G6 Iris Recognition do repositório abaixo:"
      ]
    },
    {
      "cell_type": "code",
      "metadata": {
        "id": "OedhTHPUyZBS",
        "outputId": "d951cd60-15e7-42f2-e93a-6d6aacf4fb82",
        "colab": {
          "base_uri": "https://localhost:8080/"
        }
      },
      "source": [
        "!git clone https://github.com/lucianosilva-github/G6_iris_recognition.git\n",
        "!rm -rf ./G6_iris_recognition/.git"
      ],
      "execution_count": 6,
      "outputs": [
        {
          "output_type": "stream",
          "name": "stdout",
          "text": [
            "fatal: destination path 'G6_iris_recognition' already exists and is not an empty directory.\n"
          ]
        }
      ]
    },
    {
      "cell_type": "markdown",
      "metadata": {
        "id": "3lgxvMV99ynt"
      },
      "source": [
        "   3. Fazer um clone do banco de imagens de iris:"
      ]
    },
    {
      "cell_type": "code",
      "metadata": {
        "id": "qtiGBXZq93yC",
        "outputId": "9998850f-7007-491a-d97c-f9e7d6078cb6",
        "colab": {
          "base_uri": "https://localhost:8080/"
        }
      },
      "source": [
        "!git clone https://github.com/lucianosilva-github/images-tutorial.git\n",
        "!rm -rf ./images-tutorial/.git/"
      ],
      "execution_count": 7,
      "outputs": [
        {
          "output_type": "stream",
          "name": "stdout",
          "text": [
            "fatal: destination path 'images-tutorial' already exists and is not an empty directory.\n"
          ]
        }
      ]
    },
    {
      "cell_type": "markdown",
      "metadata": {
        "id": "QRkYiS_t9J8E"
      },
      "source": [
        "   4. Criar o arquivo vazio model.pickle \n",
        "  "
      ]
    },
    {
      "cell_type": "markdown",
      "metadata": {
        "id": "nvi_ksCho9_f"
      },
      "source": [
        "**Uso do Módulo G6 (Gate 6)**\n",
        "\n",
        "Existem três passos para uso do módulo de reconhecimento de íris G6:\n",
        "\n",
        "1.   **Criação do arquivo vazio de modelo de reconhecimento** (model.pickle), que será preenchido pelo módulo G6. \n",
        "\n",
        "2.   **Construção de um modelo de reconhecimento** (model.pickle), tendo como base um banco de dados de imagens. Este banco deve ser organizado dentro de uma pasta (images-tutorial, no nosso exemplo) e, o conjunto de íris de cada pessoa, deve estar dentro de uma pasta. Por exemplo, images-tutorial/0002 irá indicar o conjunto de íris da pessoa 0002.\n",
        "3.   **Uso do modelo de reconhecimento** (model.pickle), onde colocamos a imagem que queremos reconhecer. No exemplo abaixo, estamos tentando reconhecer a íris da primeira pessoa, através do arquivo images-tutorial/0002/0002_000.bmp.\n",
        "\n",
        "\n",
        "\n",
        "\n"
      ]
    },
    {
      "cell_type": "code",
      "metadata": {
        "id": "cn-WwCzrBplr"
      },
      "source": [
        "import G6_iris_recognition\n",
        "G6_iris_recognition.iris_model_train(\"images-tutorial\",\"model.pickle\")"
      ],
      "execution_count": null,
      "outputs": []
    },
    {
      "cell_type": "code",
      "metadata": {
        "id": "5rVUcS4FANXl"
      },
      "source": [
        "iris_name = G6_iris_recognition.iris_model_test(\"model.pickle\",\"images-tutorial/0002/0002_000.bmp\")\n",
        "print(iris_name!='unmatch')"
      ],
      "execution_count": null,
      "outputs": []
    },
    {
      "cell_type": "markdown",
      "metadata": {
        "id": "KOgyXhOzsrw5"
      },
      "source": [
        "# **EXERCÍCIO**\n",
        "\n",
        "*   Construir um treinamento no módulo G6 com duas íris de cada uma das cinco primeiras pessoas (0001 a 0004) (clonar https://github.com/lucianosilva-github/images.git)\n",
        "*   Verificar a qualidade do treinamento testando cada uma das íris usadas no treinamento\n",
        "\n"
      ]
    },
    {
      "cell_type": "code",
      "metadata": {
        "id": "_aMjKV1KtklA"
      },
      "source": [
        "#seu código vai aqui"
      ],
      "execution_count": null,
      "outputs": []
    },
    {
      "cell_type": "markdown",
      "metadata": {
        "id": "-bchKMRxtrJH"
      },
      "source": [
        "# **EXERCÍCIO**\n",
        "\n",
        "Será que a qualidade das imagens influencia na qualidade do treinamento ? Analise e experimente melhorar a qualidade das imagens usadas no exercício anterior, tendo como base as técnicas estudadas na disciplina até o momento."
      ]
    },
    {
      "cell_type": "code",
      "metadata": {
        "id": "mSXAXFsnuEeX"
      },
      "source": [
        "#seu código vai aqui"
      ],
      "execution_count": null,
      "outputs": []
    },
    {
      "cell_type": "markdown",
      "metadata": {
        "id": "J9SPAQQvuXrV"
      },
      "source": [
        "**PROJETO IRIS - DATA DE ENTREGA: 07/10/2020**\n",
        "\n",
        "\n",
        "*   Crie um modelo de treinamento usando a base de dados fornecida (60 pessoas com 20 íris cada ~ 1200 imagens). Durante o treinamento, você pode utilizar qualquer procedimento para melhorar a qualidade das imagens.\n",
        "*   Obtenha a matriz de confusão do seu modelo e analise os resultados\n",
        "\n",
        "**O que entregar:** notebook implementado em Python. \n",
        "\n",
        "\n"
      ]
    }
  ]
}